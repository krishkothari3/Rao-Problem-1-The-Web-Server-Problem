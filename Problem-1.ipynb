{
 "cells": [
  {
   "cell_type": "code",
   "execution_count": 76,
   "id": "17b2fc61",
   "metadata": {},
   "outputs": [],
   "source": [
    "smallInput = open(\"TWSP_small.txt\",\"r\").readlines()\n",
    "smallInput = [s.rstrip(\"\\n\") for s in smallInput]\n",
    "temp = []\n",
    "for i in range(1,len(smallInput)):\n",
    "    temp2 = smallInput[i].split()\n",
    "    temp2[0] = int(temp2[0])\n",
    "    temp2[1] = int(temp2[1])\n",
    "    temp2[2] = int(temp2[2])\n",
    "    temp.append(tuple(temp2))\n",
    "temp.sort()\n",
    "d = {}\n",
    "for i in range(len(temp)):\n",
    "    if temp[i][0] not in d.keys():\n",
    "        d[temp[i][0]] = []\n",
    "        d[temp[i][0]].append(temp[i])\n",
    "    else:\n",
    "        d[temp[i][0]].append(temp[i])\n",
    "for i in d:\n",
    "    d[i].sort()\n",
    "    d[i] = d[i][::-1]\n",
    "for i in d:\n",
    "    d[i] = sorted(d[i],key = lambda x: x[1])\n",
    "    d[i] = d[i][::-1]\n",
    "output = []\n",
    "for i in d:\n",
    "    for j in d[i]:\n",
    "        output.append(j)\n",
    "output\n",
    "f = open(\"SmallOutput.txt\",\"w\")\n",
    "for item in output:\n",
    "    f.write(str(item)+\"\\n\")\n",
    "f.close()"
   ]
  },
  {
   "cell_type": "code",
   "execution_count": 78,
   "id": "7480b8eb",
   "metadata": {},
   "outputs": [],
   "source": [
    "largeInput = open(\"TWSP_large.txt\",\"r\").readlines()\n",
    "largeInput = [s.rstrip(\"\\n\") for s in largeInput]\n",
    "temp = []\n",
    "for i in range(1,len(largeInput)):\n",
    "    temp2 = largeInput[i].split()\n",
    "    temp2[0] = int(temp2[0])\n",
    "    temp2[1] = int(temp2[1])\n",
    "    temp2[2] = int(temp2[2])\n",
    "    temp.append(tuple(temp2))\n",
    "temp.sort()\n",
    "d = {}\n",
    "for i in range(len(temp)):\n",
    "    if temp[i][0] not in d.keys():\n",
    "        d[temp[i][0]] = []\n",
    "        d[temp[i][0]].append(temp[i])\n",
    "    else:\n",
    "        d[temp[i][0]].append(temp[i])\n",
    "for i in d:\n",
    "    d[i].sort()\n",
    "    d[i] = d[i][::-1]\n",
    "for i in d:\n",
    "    d[i] = sorted(d[i],key = lambda x: x[1])\n",
    "    d[i] = d[i][::-1]\n",
    "output = []\n",
    "for i in d:\n",
    "    for j in d[i]:\n",
    "        output.append(j)\n",
    "output\n",
    "f = open(\"LargeOutput.txt\",\"w\")\n",
    "for item in output:\n",
    "    f.write(str(item)+\"\\n\")\n",
    "f.close()\n"
   ]
  },
  {
   "cell_type": "code",
   "execution_count": null,
   "id": "3a97e482",
   "metadata": {},
   "outputs": [],
   "source": []
  }
 ],
 "metadata": {
  "kernelspec": {
   "display_name": "Python 3 (ipykernel)",
   "language": "python",
   "name": "python3"
  },
  "language_info": {
   "codemirror_mode": {
    "name": "ipython",
    "version": 3
   },
   "file_extension": ".py",
   "mimetype": "text/x-python",
   "name": "python",
   "nbconvert_exporter": "python",
   "pygments_lexer": "ipython3",
   "version": "3.9.13"
  }
 },
 "nbformat": 4,
 "nbformat_minor": 5
}
